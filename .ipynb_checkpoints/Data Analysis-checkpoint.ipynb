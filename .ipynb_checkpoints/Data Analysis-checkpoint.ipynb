{
 "cells": [
  {
   "cell_type": "code",
   "execution_count": 49,
   "metadata": {},
   "outputs": [
    {
     "name": "stdout",
     "output_type": "stream",
     "text": [
      "    Year Application Growth Rate\n",
      "5   2000     1378000           .\n",
      "6   2001     1457500         5.8\n",
      "7   2002     1444400        -0.9\n",
      "8   2003     1484300         2.8\n",
      "9   2004     1574300         6.1\n",
      "10  2005     1702900         8.2\n",
      "11  2006     1791100         5.2\n",
      "12  2007     1874400         4.7\n",
      "13  2008     1929400         2.9\n",
      "14  2009     1855600        -3.8\n",
      "15  2010     1997400         7.6\n",
      "16  2011     2158000           8\n",
      "17  2012     2356600         9.2\n",
      "18  2013     2564800         8.8\n",
      "19  2014     2680900         4.5\n"
     ]
    }
   ],
   "source": [
    "# converting xlsx to csv\n",
    "import pandas as pd\n",
    "\n",
    "dataset1 = pd.read_excel(\"wipo_pub_941_2015-tech1/A01.xlsx\")\n",
    "dataset1 = dataset1[5:]\n",
    "dataset1.columns = ['Year', 'Application', 'Growth Rate']\n",
    "print(dataset1.iloc[:])\n",
    "year = dataset1.iloc[:, 0]\n",
    "App = dataset1.iloc[:, 1]\n",
    "Growth = dataset1.iloc[:, 2]\n",
    "\n"
   ]
  },
  {
   "cell_type": "code",
   "execution_count": 59,
   "metadata": {},
   "outputs": [
    {
     "data": {
      "image/png": "[encoded data removed]",
      "text/plain": [
       "<Figure size 432x288 with 1 Axes>"
      ]
     },
     "metadata": {},
     "output_type": "display_data"
    },
    {
     "name": "stdout",
     "output_type": "stream",
     "text": [
      "5     2000\n",
      "6     2001\n",
      "7     2002\n",
      "8     2003\n",
      "9     2004\n",
      "10    2005\n",
      "11    2006\n",
      "12    2007\n",
      "13    2008\n",
      "14    2009\n",
      "15    2010\n",
      "16    2011\n",
      "17    2012\n",
      "18    2013\n",
      "19    2014\n",
      "Name: Year, dtype: object\n"
     ]
    }
   ],
   "source": [
    "import matplotlib.pyplot as plt\n",
    "import numpy as np\n",
    "\n",
    "plt.bar(year, App)\n",
    "plt.xlabel('Year')\n",
    "plt.ylabel('Application')\n",
    "plt.show()\n",
    "print(year)"
   ]
  },
  {
   "cell_type": "code",
   "execution_count": 71,
   "metadata": {},
   "outputs": [
    {
     "name": "stdout",
     "output_type": "stream",
     "text": [
      "[[2000]\n",
      " [2001]\n",
      " [2002]\n",
      " [2003]\n",
      " [2004]\n",
      " [2005]\n",
      " [2006]\n",
      " [2007]\n",
      " [2008]\n",
      " [2009]\n",
      " [2010]\n",
      " [2011]\n",
      " [2012]\n",
      " [2013]\n",
      " [2014]]\n"
     ]
    }
   ],
   "source": [
    "year = year.reshape((-1,1))"
   ]
  },
  {
   "cell_type": "code",
   "execution_count": 76,
   "metadata": {},
   "outputs": [
    {
     "data": {
      "image/png": "[encoded data removed]",
      "text/plain": [
       "<Figure size 432x288 with 1 Axes>"
      ]
     },
     "metadata": {},
     "output_type": "display_data"
    },
    {
     "data": {
      "text/plain": [
       "(-175398587.26190478, array([ 88331.78571429]))"
      ]
     },
     "execution_count": 76,
     "metadata": {},
     "output_type": "execute_result"
    }
   ],
   "source": [
    "from sklearn.linear_model import LinearRegression\n",
    "regressor = LinearRegression()\n",
    "regressor.fit(year, App)\n",
    "\n",
    "plt.scatter(year, App, color = 'red')\n",
    "plt.plot(year, regressor.predict(year), color = 'blue')\n",
    "plt.title('Application over the years')\n",
    "plt.xlabel('Year')\n",
    "plt.ylabel('Application')\n",
    "plt.show()\n",
    "regressor.intercept_, regressor.coef_"
   ]
  },
  {
   "cell_type": "code",
   "execution_count": 110,
   "metadata": {},
   "outputs": [],
   "source": [
    "dataset2 = pd.read_excel(\"wipo_pub_941_2015-tech1/A02.xlsx\")\n",
    "dataset3 = pd.read_excel(\"wipo_pub_941_2015-tech1/A03.xlsx\")\n",
    "dataset4 = pd.read_excel(\"wipo_pub_941_2015-tech1/A04.xlsx\")\n",
    "dataset5 = pd.read_excel(\"wipo_pub_941_2015-tech1/A05.xlsx\")\n",
    "dataset6 = pd.read_excel(\"wipo_pub_941_2015-tech1/A06.xlsx\")\n",
    "dataset7 = pd.read_excel(\"wipo_pub_941_2015-tech1/A07.xlsx\")\n",
    "dataset8 = pd.read_excel(\"wipo_pub_941_2015-tech1/A08.xlsx\")\n",
    "dataset9 = pd.read_excel(\"wipo_pub_941_2015-tech1/A09.xlsx\")\n",
    "dataset10 = pd.read_excel(\"wipo_pub_941_2015-tech1/A10.xlsx\")\n",
    "\n"
   ]
  },
  {
   "cell_type": "code",
   "execution_count": 111,
   "metadata": {},
   "outputs": [
    {
     "name": "stdout",
     "output_type": "stream",
     "text": [
      "   A2 Resident and non-resident patent applications worldwide Unnamed: 1  \\\n",
      "0                                                 NaN                NaN   \n",
      "1   Note: WIPO estimates cover 147 patent offices ...                NaN   \n",
      "2     Source: WIPO Statistics Database, October 2015.                NaN   \n",
      "3                                                 NaN                NaN   \n",
      "4                                                 NaN                NaN   \n",
      "5                                                Year           Resident   \n",
      "6                                                2000             875000   \n",
      "7                                                2001             896600   \n",
      "8                                                2002             889300   \n",
      "9                                                2003             925000   \n",
      "10                                               2004             972600   \n",
      "11                                               2005            1039000   \n",
      "12                                               2006            1075300   \n",
      "13                                               2007            1125200   \n",
      "14                                               2008            1162000   \n",
      "15                                               2009            1146500   \n",
      "16                                               2010            1237000   \n",
      "17                                               2011            1365100   \n",
      "18                                               2012            1519700   \n",
      "19                                               2013            1709000   \n",
      "20                                               2014            1800300   \n",
      "\n",
      "      Unnamed: 2  \n",
      "0            NaN  \n",
      "1            NaN  \n",
      "2            NaN  \n",
      "3            NaN  \n",
      "4            NaN  \n",
      "5   Non_Resident  \n",
      "6         503000  \n",
      "7         560900  \n",
      "8         555100  \n",
      "9         559300  \n",
      "10        601700  \n",
      "11        663900  \n",
      "12        715800  \n",
      "13        749200  \n",
      "14        767400  \n",
      "15        709100  \n",
      "16        760400  \n",
      "17        792900  \n",
      "18        836900  \n",
      "19        855800  \n",
      "20        880600  \n"
     ]
    }
   ],
   "source": [
    "print(dataset2)"
   ]
  },
  {
   "cell_type": "code",
   "execution_count": 113,
   "metadata": {},
   "outputs": [
    {
     "name": "stdout",
     "output_type": "stream",
     "text": [
      "    Year Resident Non-resident\n",
      "6   2000   875000       503000\n",
      "7   2001   896600       560900\n",
      "8   2002   889300       555100\n",
      "9   2003   925000       559300\n",
      "10  2004   972600       601700\n",
      "11  2005  1039000       663900\n",
      "12  2006  1075300       715800\n",
      "13  2007  1125200       749200\n",
      "14  2008  1162000       767400\n",
      "15  2009  1146500       709100\n",
      "16  2010  1237000       760400\n",
      "17  2011  1365100       792900\n",
      "18  2012  1519700       836900\n",
      "19  2013  1709000       855800\n",
      "20  2014  1800300       880600\n"
     ]
    }
   ],
   "source": [
    "dataset2 = dataset2[6:]\n",
    "dataset2.columns = ['Year', 'Resident', 'Non-resident']\n",
    "print(dataset2)\n",
    "Year = dataset2.iloc[:,0]\n",
    "Resident = dataset2.iloc[:, 1]\n",
    "Nonresident = dataset2.iloc[:,2]"
   ]
  },
  {
   "cell_type": "code",
   "execution_count": 120,
   "metadata": {},
   "outputs": [
    {
     "name": "stdout",
     "output_type": "stream",
     "text": [
      "-123242891.905 [ 61995.71428571]\n"
     ]
    },
    {
     "ename": "TypeError",
     "evalue": "__init__() got an unexpected keyword argument 'color'",
     "output_type": "error",
     "traceback": [
      "\u001b[0;31m---------------------------------------------------------------------------\u001b[0m",
      "\u001b[0;31mTypeError\u001b[0m                                 Traceback (most recent call last)",
      "\u001b[0;32m<ipython-input-120-1125f22c37d2>\u001b[0m in \u001b[0;36m<module>\u001b[0;34m()\u001b[0m\n\u001b[1;32m     13\u001b[0m \u001b[0mplt\u001b[0m\u001b[0;34m.\u001b[0m\u001b[0mxlabel\u001b[0m\u001b[0;34m(\u001b[0m\u001b[0;34m'Year'\u001b[0m\u001b[0;34m)\u001b[0m\u001b[0;34m\u001b[0m\u001b[0m\n\u001b[1;32m     14\u001b[0m \u001b[0mplt\u001b[0m\u001b[0;34m.\u001b[0m\u001b[0mylabel\u001b[0m\u001b[0;34m(\u001b[0m\u001b[0;34m'Applicants'\u001b[0m\u001b[0;34m)\u001b[0m\u001b[0;34m\u001b[0m\u001b[0m\n\u001b[0;32m---> 15\u001b[0;31m \u001b[0mplt\u001b[0m\u001b[0;34m.\u001b[0m\u001b[0mlegend\u001b[0m\u001b[0;34m(\u001b[0m\u001b[0mcolor\u001b[0m \u001b[0;34m=\u001b[0m\u001b[0;34m(\u001b[0m\u001b[0;34m'red'\u001b[0m\u001b[0;34m,\u001b[0m \u001b[0;34m'blue'\u001b[0m\u001b[0;34m,\u001b[0m \u001b[0;34m'orange'\u001b[0m\u001b[0;34m,\u001b[0m \u001b[0;34m'green'\u001b[0m\u001b[0;34m)\u001b[0m\u001b[0;34m)\u001b[0m\u001b[0;34m\u001b[0m\u001b[0m\n\u001b[0m\u001b[1;32m     16\u001b[0m \u001b[0mprint\u001b[0m\u001b[0;34m(\u001b[0m\u001b[0mregressor\u001b[0m\u001b[0;34m.\u001b[0m\u001b[0mintercept_\u001b[0m\u001b[0;34m,\u001b[0m \u001b[0mregressor\u001b[0m\u001b[0;34m.\u001b[0m\u001b[0mcoef_\u001b[0m\u001b[0;34m)\u001b[0m\u001b[0;34m\u001b[0m\u001b[0m\n\u001b[1;32m     17\u001b[0m \u001b[0mplt\u001b[0m\u001b[0;34m.\u001b[0m\u001b[0mshow\u001b[0m\u001b[0;34m(\u001b[0m\u001b[0;34m)\u001b[0m\u001b[0;34m\u001b[0m\u001b[0m\n",
      "\u001b[0;32m~/anaconda/lib/python3.5/site-packages/matplotlib/pyplot.py\u001b[0m in \u001b[0;36mlegend\u001b[0;34m(*args, **kwargs)\u001b[0m\n\u001b[1;32m   3816\u001b[0m \u001b[0;34m@\u001b[0m\u001b[0mdocstring\u001b[0m\u001b[0;34m.\u001b[0m\u001b[0mcopy_dedent\u001b[0m\u001b[0;34m(\u001b[0m\u001b[0mAxes\u001b[0m\u001b[0;34m.\u001b[0m\u001b[0mlegend\u001b[0m\u001b[0;34m)\u001b[0m\u001b[0;34m\u001b[0m\u001b[0m\n\u001b[1;32m   3817\u001b[0m \u001b[0;32mdef\u001b[0m \u001b[0mlegend\u001b[0m\u001b[0;34m(\u001b[0m\u001b[0;34m*\u001b[0m\u001b[0margs\u001b[0m\u001b[0;34m,\u001b[0m \u001b[0;34m**\u001b[0m\u001b[0mkwargs\u001b[0m\u001b[0;34m)\u001b[0m\u001b[0;34m:\u001b[0m\u001b[0;34m\u001b[0m\u001b[0m\n\u001b[0;32m-> 3818\u001b[0;31m     \u001b[0mret\u001b[0m \u001b[0;34m=\u001b[0m \u001b[0mgca\u001b[0m\u001b[0;34m(\u001b[0m\u001b[0;34m)\u001b[0m\u001b[0;34m.\u001b[0m\u001b[0mlegend\u001b[0m\u001b[0;34m(\u001b[0m\u001b[0;34m*\u001b[0m\u001b[0margs\u001b[0m\u001b[0;34m,\u001b[0m \u001b[0;34m**\u001b[0m\u001b[0mkwargs\u001b[0m\u001b[0;34m)\u001b[0m\u001b[0;34m\u001b[0m\u001b[0m\n\u001b[0m\u001b[1;32m   3819\u001b[0m     \u001b[0;32mreturn\u001b[0m \u001b[0mret\u001b[0m\u001b[0;34m\u001b[0m\u001b[0m\n\u001b[1;32m   3820\u001b[0m \u001b[0;34m\u001b[0m\u001b[0m\n",
      "\u001b[0;32m~/anaconda/lib/python3.5/site-packages/matplotlib/axes/_axes.py\u001b[0m in \u001b[0;36mlegend\u001b[0;34m(self, *args, **kwargs)\u001b[0m\n\u001b[1;32m    555\u001b[0m         \u001b[0;32mif\u001b[0m \u001b[0mlen\u001b[0m\u001b[0;34m(\u001b[0m\u001b[0mextra_args\u001b[0m\u001b[0;34m)\u001b[0m\u001b[0;34m:\u001b[0m\u001b[0;34m\u001b[0m\u001b[0m\n\u001b[1;32m    556\u001b[0m             \u001b[0;32mraise\u001b[0m \u001b[0mTypeError\u001b[0m\u001b[0;34m(\u001b[0m\u001b[0;34m'legend only accepts two non-keyword arguments'\u001b[0m\u001b[0;34m)\u001b[0m\u001b[0;34m\u001b[0m\u001b[0m\n\u001b[0;32m--> 557\u001b[0;31m         \u001b[0mself\u001b[0m\u001b[0;34m.\u001b[0m\u001b[0mlegend_\u001b[0m \u001b[0;34m=\u001b[0m \u001b[0mmlegend\u001b[0m\u001b[0;34m.\u001b[0m\u001b[0mLegend\u001b[0m\u001b[0;34m(\u001b[0m\u001b[0mself\u001b[0m\u001b[0;34m,\u001b[0m \u001b[0mhandles\u001b[0m\u001b[0;34m,\u001b[0m \u001b[0mlabels\u001b[0m\u001b[0;34m,\u001b[0m \u001b[0;34m**\u001b[0m\u001b[0mkwargs\u001b[0m\u001b[0;34m)\u001b[0m\u001b[0;34m\u001b[0m\u001b[0m\n\u001b[0m\u001b[1;32m    558\u001b[0m         \u001b[0mself\u001b[0m\u001b[0;34m.\u001b[0m\u001b[0mlegend_\u001b[0m\u001b[0;34m.\u001b[0m\u001b[0m_remove_method\u001b[0m \u001b[0;34m=\u001b[0m \u001b[0;32mlambda\u001b[0m \u001b[0mh\u001b[0m\u001b[0;34m:\u001b[0m \u001b[0msetattr\u001b[0m\u001b[0;34m(\u001b[0m\u001b[0mself\u001b[0m\u001b[0;34m,\u001b[0m \u001b[0;34m'legend_'\u001b[0m\u001b[0;34m,\u001b[0m \u001b[0;32mNone\u001b[0m\u001b[0;34m)\u001b[0m\u001b[0;34m\u001b[0m\u001b[0m\n\u001b[1;32m    559\u001b[0m         \u001b[0;32mreturn\u001b[0m \u001b[0mself\u001b[0m\u001b[0;34m.\u001b[0m\u001b[0mlegend_\u001b[0m\u001b[0;34m\u001b[0m\u001b[0m\n",
      "\u001b[0;31mTypeError\u001b[0m: __init__() got an unexpected keyword argument 'color'"
     ]
    },
    {
     "data": {
      "image/png": "[encoded data removed]",
      "text/plain": [
       "<Figure size 432x288 with 1 Axes>"
      ]
     },
     "metadata": {},
     "output_type": "display_data"
    }
   ],
   "source": [
    "regressor = LinearRegression()\n",
    "regressor.fit(year, Resident)\n",
    "plt.scatter(year, Resident, color = 'red', label = 'Resident')\n",
    "plt.plot(year, regressor.predict(year), color = 'blue', label = 'Resident Projection')\n",
    "print(regressor.intercept_, regressor.coef_)\n",
    "plt.legend()\n",
    "\n",
    "regressor = LinearRegression()\n",
    "regressor.fit(year, Nonresident)\n",
    "plt.scatter(year, Nonresident, color = 'orange', label = 'Non-resident')\n",
    "plt.plot(year, regressor.predict(year), color = 'green', label = 'Non-resident Projection')\n",
    "plt.title('Application over the years')\n",
    "plt.xlabel('Year')\n",
    "plt.ylabel('Applicants')\n",
    "plt.legend()\n",
    "print(regressor.intercept_, regressor.coef_)\n",
    "plt.show()"
   ]
  },
  {
   "cell_type": "code",
   "execution_count": null,
   "metadata": {},
   "outputs": [],
   "source": []
  }
 ],
 "metadata": {
  "kernelspec": {
   "display_name": "Python 3",
   "language": "python",
   "name": "python3"
  },
  "language_info": {
   "codemirror_mode": {
    "name": "ipython",
    "version": 3
   },
   "file_extension": ".py",
   "mimetype": "text/x-python",
   "name": "python",
   "nbconvert_exporter": "python",
   "pygments_lexer": "ipython3",
   "version": "3.5.5"
  }
 },
 "nbformat": 4,
 "nbformat_minor": 2
}
