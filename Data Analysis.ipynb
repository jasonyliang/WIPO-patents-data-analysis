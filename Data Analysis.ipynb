{
 "cells": [
  {
   "cell_type": "code",
   "execution_count": 2,
   "metadata": {},
   "outputs": [
    {
     "name": "stdout",
     "output_type": "stream",
     "text": [
      "    Year Application Growth Rate\n",
      "5   2000     1378000           .\n",
      "6   2001     1457500         5.8\n",
      "7   2002     1444400        -0.9\n",
      "8   2003     1484300         2.8\n",
      "9   2004     1574300         6.1\n",
      "10  2005     1702900         8.2\n",
      "11  2006     1791100         5.2\n",
      "12  2007     1874400         4.7\n",
      "13  2008     1929400         2.9\n",
      "14  2009     1855600        -3.8\n",
      "15  2010     1997400         7.6\n",
      "16  2011     2158000           8\n",
      "17  2012     2356600         9.2\n",
      "18  2013     2564800         8.8\n",
      "19  2014     2680900         4.5\n"
     ]
    }
   ],
   "source": [
    "# converting xlsx to csv\n",
    "import pandas as pd\n",
    "\n",
    "dataset1 = pd.read_excel(\"wipo_pub_941_2015-tech1/A01.xlsx\")\n",
    "dataset1 = dataset1[5:]\n",
    "dataset1.columns = ['Year', 'Application', 'Growth Rate']\n",
    "print(dataset1.iloc[:])\n",
    "year = dataset1.iloc[:, 0]\n",
    "App = dataset1.iloc[:, 1]\n",
    "Growth = dataset1.iloc[:, 2]\n",
    "\n"
   ]
  },
  {
   "cell_type": "code",
   "execution_count": 3,
   "metadata": {},
   "outputs": [
    {
     "data": {
      "text/plain": [
       "<Figure size 640x480 with 1 Axes>"
      ]
     },
     "metadata": {},
     "output_type": "display_data"
    },
    {
     "name": "stdout",
     "output_type": "stream",
     "text": [
      "5     2000\n",
      "6     2001\n",
      "7     2002\n",
      "8     2003\n",
      "9     2004\n",
      "10    2005\n",
      "11    2006\n",
      "12    2007\n",
      "13    2008\n",
      "14    2009\n",
      "15    2010\n",
      "16    2011\n",
      "17    2012\n",
      "18    2013\n",
      "19    2014\n",
      "Name: Year, dtype: object\n"
     ]
    }
   ],
   "source": [
    "import matplotlib.pyplot as plt\n",
    "import numpy as np\n",
    "\n",
    "plt.bar(year, App)\n",
    "plt.xlabel('Year')\n",
    "plt.ylabel('Application')\n",
    "plt.show()\n",
    "print(year)"
   ]
  },
  {
   "cell_type": "code",
   "execution_count": 4,
   "metadata": {},
   "outputs": [
    {
     "name": "stderr",
     "output_type": "stream",
     "text": [
      "/Users/jhajhajhajha1/anaconda/lib/python3.5/site-packages/ipykernel_launcher.py:1: FutureWarning: reshape is deprecated and will raise in a subsequent release. Please use .values.reshape(...) instead\n",
      "  \"\"\"Entry point for launching an IPython kernel.\n"
     ]
    }
   ],
   "source": [
    "year = year.reshape((-1,1))"
   ]
  },
  {
   "cell_type": "code",
   "execution_count": 5,
   "metadata": {},
   "outputs": [
    {
     "data": {
      "image/png": "[encoded data removed]",
      "text/plain": [
       "<Figure size 432x288 with 1 Axes>"
      ]
     },
     "metadata": {},
     "output_type": "display_data"
    },
    {
     "data": {
      "text/plain": [
       "(-175398587.26190478, array([ 88331.78571429]))"
      ]
     },
     "execution_count": 5,
     "metadata": {},
     "output_type": "execute_result"
    }
   ],
   "source": [
    "from sklearn.linear_model import LinearRegression\n",
    "regressor = LinearRegression()\n",
    "regressor.fit(year, App)\n",
    "\n",
    "plt.scatter(year, App, color = 'red')\n",
    "plt.plot(year, regressor.predict(year), color = 'blue')\n",
    "plt.title('Application over the years')\n",
    "plt.xlabel('Year')\n",
    "plt.ylabel('Application')\n",
    "plt.show()\n",
    "regressor.intercept_, regressor.coef_"
   ]
  },
  {
   "cell_type": "code",
   "execution_count": 6,
   "metadata": {},
   "outputs": [],
   "source": [
    "dataset2 = pd.read_excel(\"wipo_pub_941_2015-tech1/A02.xlsx\")\n",
    "dataset3 = pd.read_excel(\"wipo_pub_941_2015-tech1/A03.xlsx\")\n",
    "dataset4 = pd.read_excel(\"wipo_pub_941_2015-tech1/A04.xlsx\")\n",
    "dataset5 = pd.read_excel(\"wipo_pub_941_2015-tech1/A05.xlsx\")\n",
    "dataset6 = pd.read_excel(\"wipo_pub_941_2015-tech1/A06.xlsx\")\n",
    "dataset7 = pd.read_excel(\"wipo_pub_941_2015-tech1/A07.xlsx\")\n",
    "dataset8 = pd.read_excel(\"wipo_pub_941_2015-tech1/A08.xlsx\")\n",
    "dataset9 = pd.read_excel(\"wipo_pub_941_2015-tech1/A09.xlsx\")\n",
    "dataset10 = pd.read_excel(\"wipo_pub_941_2015-tech1/A10.xlsx\")\n",
    "\n"
   ]
  },
  {
   "cell_type": "code",
   "execution_count": 7,
   "metadata": {},
   "outputs": [
    {
     "name": "stdout",
     "output_type": "stream",
     "text": [
      "   A2 Resident and non-resident patent applications worldwide Unnamed: 1  \\\n",
      "0                                                 NaN                NaN   \n",
      "1   Note: WIPO estimates cover 147 patent offices ...                NaN   \n",
      "2     Source: WIPO Statistics Database, October 2015.                NaN   \n",
      "3                                                 NaN                NaN   \n",
      "4                                                 NaN                NaN   \n",
      "5                                                Year           Resident   \n",
      "6                                                2000             875000   \n",
      "7                                                2001             896600   \n",
      "8                                                2002             889300   \n",
      "9                                                2003             925000   \n",
      "10                                               2004             972600   \n",
      "11                                               2005            1039000   \n",
      "12                                               2006            1075300   \n",
      "13                                               2007            1125200   \n",
      "14                                               2008            1162000   \n",
      "15                                               2009            1146500   \n",
      "16                                               2010            1237000   \n",
      "17                                               2011            1365100   \n",
      "18                                               2012            1519700   \n",
      "19                                               2013            1709000   \n",
      "20                                               2014            1800300   \n",
      "\n",
      "      Unnamed: 2  \n",
      "0            NaN  \n",
      "1            NaN  \n",
      "2            NaN  \n",
      "3            NaN  \n",
      "4            NaN  \n",
      "5   Non_Resident  \n",
      "6         503000  \n",
      "7         560900  \n",
      "8         555100  \n",
      "9         559300  \n",
      "10        601700  \n",
      "11        663900  \n",
      "12        715800  \n",
      "13        749200  \n",
      "14        767400  \n",
      "15        709100  \n",
      "16        760400  \n",
      "17        792900  \n",
      "18        836900  \n",
      "19        855800  \n",
      "20        880600  \n"
     ]
    }
   ],
   "source": [
    "print(dataset2)"
   ]
  },
  {
   "cell_type": "code",
   "execution_count": 8,
   "metadata": {},
   "outputs": [
    {
     "name": "stdout",
     "output_type": "stream",
     "text": [
      "    Year Resident Non-resident\n",
      "6   2000   875000       503000\n",
      "7   2001   896600       560900\n",
      "8   2002   889300       555100\n",
      "9   2003   925000       559300\n",
      "10  2004   972600       601700\n",
      "11  2005  1039000       663900\n",
      "12  2006  1075300       715800\n",
      "13  2007  1125200       749200\n",
      "14  2008  1162000       767400\n",
      "15  2009  1146500       709100\n",
      "16  2010  1237000       760400\n",
      "17  2011  1365100       792900\n",
      "18  2012  1519700       836900\n",
      "19  2013  1709000       855800\n",
      "20  2014  1800300       880600\n"
     ]
    }
   ],
   "source": [
    "dataset2 = dataset2[6:]\n",
    "dataset2.columns = ['Year', 'Resident', 'Non-resident']\n",
    "print(dataset2)\n",
    "Year = dataset2.iloc[:,0]\n",
    "Resident = dataset2.iloc[:, 1]\n",
    "Nonresident = dataset2.iloc[:,2]"
   ]
  },
  {
   "cell_type": "code",
   "execution_count": 9,
   "metadata": {},
   "outputs": [
    {
     "name": "stdout",
     "output_type": "stream",
     "text": [
      "-123242891.905 [ 61995.71428571]\n",
      "-52155695.3571 [ 26336.07142857]\n"
     ]
    },
    {
     "data": {
      "image/png": "[encoded data removed]",
      "text/plain": [
       "<Figure size 432x288 with 1 Axes>"
      ]
     },
     "metadata": {},
     "output_type": "display_data"
    }
   ],
   "source": [
    "regressor = LinearRegression()\n",
    "regressor.fit(year, Resident)\n",
    "plt.scatter(year, Resident, color = 'red', label = 'Resident')\n",
    "plt.plot(year, regressor.predict(year), color = 'blue', label = 'Resident Projection')\n",
    "print(regressor.intercept_, regressor.coef_)\n",
    "plt.legend()\n",
    "\n",
    "regressor = LinearRegression()\n",
    "regressor.fit(year, Nonresident)\n",
    "plt.scatter(year, Nonresident, color = 'orange', label = 'Non-resident')\n",
    "plt.plot(year, regressor.predict(year), color = 'green', label = 'Non-resident Projection')\n",
    "plt.title('Application over the years')\n",
    "plt.xlabel('Year')\n",
    "plt.ylabel('Applicants')\n",
    "plt.legend()\n",
    "print(regressor.intercept_, regressor.coef_)\n",
    "plt.show()"
   ]
  },
  {
   "cell_type": "code",
   "execution_count": 10,
   "metadata": {},
   "outputs": [
    {
     "name": "stdout",
     "output_type": "stream",
     "text": [
      "                  A3 Trend in patent grants worldwide Unnamed: 1   Unnamed: 2\n",
      "0                                                            NaN          NaN\n",
      "1   Note: WIPO estimates cover 130 patent offices ...        NaN          NaN\n",
      "2     Source: WIPO Statistics Database, October 2015.        NaN          NaN\n",
      "3                                                 NaN        NaN          NaN\n",
      "4                                                Year     Grants  Growth_Rate\n",
      "5                                                2000     515000            .\n",
      "6                                                2001     535700            4\n",
      "7                                                2002     559200          4.4\n",
      "8                                                2003     618400         10.6\n",
      "9                                                2004     625100          1.1\n",
      "10                                               2005     631000          0.9\n",
      "11                                               2006     752200         19.2\n",
      "12                                               2007     773900          2.9\n",
      "13                                               2008     778900          0.6\n",
      "14                                               2009     811800          4.2\n",
      "15                                               2010     912300         12.4\n",
      "16                                               2011     999800          9.6\n",
      "17                                               2012    1135700         13.6\n",
      "18                                               2013    1172500          3.2\n",
      "19                                               2014    1176600          0.3\n"
     ]
    }
   ],
   "source": [
    "print(dataset3)"
   ]
  },
  {
   "cell_type": "code",
   "execution_count": 11,
   "metadata": {},
   "outputs": [
    {
     "name": "stdout",
     "output_type": "stream",
     "text": [
      "   A3 Trend in patent grants worldwide Unnamed: 1 Unnamed: 2\n",
      "5                                 2000     515000          .\n",
      "6                                 2001     535700          4\n",
      "7                                 2002     559200        4.4\n",
      "8                                 2003     618400       10.6\n",
      "9                                 2004     625100        1.1\n",
      "10                                2005     631000        0.9\n",
      "11                                2006     752200       19.2\n",
      "12                                2007     773900        2.9\n",
      "13                                2008     778900        0.6\n",
      "14                                2009     811800        4.2\n",
      "15                                2010     912300       12.4\n",
      "16                                2011     999800        9.6\n",
      "17                                2012    1135700       13.6\n",
      "18                                2013    1172500        3.2\n",
      "19                                2014    1176600        0.3\n"
     ]
    }
   ],
   "source": [
    "dataset3 = dataset3[5:]\n",
    "print(dataset3)\n",
    "dataset3.columns = ['Year', 'Grants', 'Growth Rate']"
   ]
  },
  {
   "cell_type": "code",
   "execution_count": 12,
   "metadata": {},
   "outputs": [
    {
     "data": {
      "text/html": [
       "<div>\n",
       "<style scoped>\n",
       "    .dataframe tbody tr th:only-of-type {\n",
       "        vertical-align: middle;\n",
       "    }\n",
       "\n",
       "    .dataframe tbody tr th {\n",
       "        vertical-align: top;\n",
       "    }\n",
       "\n",
       "    .dataframe thead th {\n",
       "        text-align: right;\n",
       "    }\n",
       "</style>\n",
       "<table border=\"1\" class=\"dataframe\">\n",
       "  <thead>\n",
       "    <tr style=\"text-align: right;\">\n",
       "      <th></th>\n",
       "      <th>A4 Resident and non-resident patent grants worldwide</th>\n",
       "      <th>Unnamed: 1</th>\n",
       "      <th>Unnamed: 2</th>\n",
       "    </tr>\n",
       "  </thead>\n",
       "  <tbody>\n",
       "    <tr>\n",
       "      <th>0</th>\n",
       "      <td></td>\n",
       "      <td>NaN</td>\n",
       "      <td>NaN</td>\n",
       "    </tr>\n",
       "    <tr>\n",
       "      <th>1</th>\n",
       "      <td>Note: WIPO estimates cover 130 patent offices ...</td>\n",
       "      <td>NaN</td>\n",
       "      <td>NaN</td>\n",
       "    </tr>\n",
       "    <tr>\n",
       "      <th>2</th>\n",
       "      <td>Source: WIPO Statistics Database, October 2015.</td>\n",
       "      <td>NaN</td>\n",
       "      <td>NaN</td>\n",
       "    </tr>\n",
       "    <tr>\n",
       "      <th>3</th>\n",
       "      <td>NaN</td>\n",
       "      <td>NaN</td>\n",
       "      <td>NaN</td>\n",
       "    </tr>\n",
       "    <tr>\n",
       "      <th>4</th>\n",
       "      <td>Year</td>\n",
       "      <td>Resident</td>\n",
       "      <td>Non_Resident</td>\n",
       "    </tr>\n",
       "    <tr>\n",
       "      <th>5</th>\n",
       "      <td>2000</td>\n",
       "      <td>309000</td>\n",
       "      <td>206000</td>\n",
       "    </tr>\n",
       "    <tr>\n",
       "      <th>6</th>\n",
       "      <td>2001</td>\n",
       "      <td>316900</td>\n",
       "      <td>218800</td>\n",
       "    </tr>\n",
       "    <tr>\n",
       "      <th>7</th>\n",
       "      <td>2002</td>\n",
       "      <td>330700</td>\n",
       "      <td>228400</td>\n",
       "    </tr>\n",
       "    <tr>\n",
       "      <th>8</th>\n",
       "      <td>2003</td>\n",
       "      <td>359000</td>\n",
       "      <td>259400</td>\n",
       "    </tr>\n",
       "    <tr>\n",
       "      <th>9</th>\n",
       "      <td>2004</td>\n",
       "      <td>365400</td>\n",
       "      <td>259700</td>\n",
       "    </tr>\n",
       "    <tr>\n",
       "      <th>10</th>\n",
       "      <td>2005</td>\n",
       "      <td>370500</td>\n",
       "      <td>260500</td>\n",
       "    </tr>\n",
       "    <tr>\n",
       "      <th>11</th>\n",
       "      <td>2006</td>\n",
       "      <td>451800</td>\n",
       "      <td>300400</td>\n",
       "    </tr>\n",
       "    <tr>\n",
       "      <th>12</th>\n",
       "      <td>2007</td>\n",
       "      <td>466200</td>\n",
       "      <td>307700</td>\n",
       "    </tr>\n",
       "    <tr>\n",
       "      <th>13</th>\n",
       "      <td>2008</td>\n",
       "      <td>466000</td>\n",
       "      <td>312900</td>\n",
       "    </tr>\n",
       "    <tr>\n",
       "      <th>14</th>\n",
       "      <td>2009</td>\n",
       "      <td>487300</td>\n",
       "      <td>324500</td>\n",
       "    </tr>\n",
       "    <tr>\n",
       "      <th>15</th>\n",
       "      <td>2010</td>\n",
       "      <td>553100</td>\n",
       "      <td>359200</td>\n",
       "    </tr>\n",
       "    <tr>\n",
       "      <th>16</th>\n",
       "      <td>2011</td>\n",
       "      <td>608500</td>\n",
       "      <td>391300</td>\n",
       "    </tr>\n",
       "    <tr>\n",
       "      <th>17</th>\n",
       "      <td>2012</td>\n",
       "      <td>695700</td>\n",
       "      <td>440000</td>\n",
       "    </tr>\n",
       "    <tr>\n",
       "      <th>18</th>\n",
       "      <td>2013</td>\n",
       "      <td>721300</td>\n",
       "      <td>451200</td>\n",
       "    </tr>\n",
       "    <tr>\n",
       "      <th>19</th>\n",
       "      <td>2014</td>\n",
       "      <td>707500</td>\n",
       "      <td>469100</td>\n",
       "    </tr>\n",
       "  </tbody>\n",
       "</table>\n",
       "</div>"
      ],
      "text/plain": [
       "   A4 Resident and non-resident patent grants worldwide Unnamed: 1  \\\n",
       "0                                                              NaN   \n",
       "1   Note: WIPO estimates cover 130 patent offices ...          NaN   \n",
       "2     Source: WIPO Statistics Database, October 2015.          NaN   \n",
       "3                                                 NaN          NaN   \n",
       "4                                                Year     Resident   \n",
       "5                                                2000       309000   \n",
       "6                                                2001       316900   \n",
       "7                                                2002       330700   \n",
       "8                                                2003       359000   \n",
       "9                                                2004       365400   \n",
       "10                                               2005       370500   \n",
       "11                                               2006       451800   \n",
       "12                                               2007       466200   \n",
       "13                                               2008       466000   \n",
       "14                                               2009       487300   \n",
       "15                                               2010       553100   \n",
       "16                                               2011       608500   \n",
       "17                                               2012       695700   \n",
       "18                                               2013       721300   \n",
       "19                                               2014       707500   \n",
       "\n",
       "      Unnamed: 2  \n",
       "0            NaN  \n",
       "1            NaN  \n",
       "2            NaN  \n",
       "3            NaN  \n",
       "4   Non_Resident  \n",
       "5         206000  \n",
       "6         218800  \n",
       "7         228400  \n",
       "8         259400  \n",
       "9         259700  \n",
       "10        260500  \n",
       "11        300400  \n",
       "12        307700  \n",
       "13        312900  \n",
       "14        324500  \n",
       "15        359200  \n",
       "16        391300  \n",
       "17        440000  \n",
       "18        451200  \n",
       "19        469100  "
      ]
     },
     "execution_count": 12,
     "metadata": {},
     "output_type": "execute_result"
    }
   ],
   "source": [
    "dataset4"
   ]
  },
  {
   "cell_type": "code",
   "execution_count": 19,
   "metadata": {},
   "outputs": [],
   "source": [
    "dataset4.columns = [\"Year\", \"Resident\", \"Non-resident\"]"
   ]
  },
  {
   "cell_type": "code",
   "execution_count": 20,
   "metadata": {},
   "outputs": [],
   "source": [
    "dataset4 = dataset4.iloc[5:].values"
   ]
  },
  {
   "cell_type": "code",
   "execution_count": 36,
   "metadata": {},
   "outputs": [
    {
     "name": "stderr",
     "output_type": "stream",
     "text": [
      "/Users/jhajhajhajha1/anaconda/lib/python3.5/site-packages/ipykernel_launcher.py:7: DataConversionWarning: A column-vector y was passed when a 1d array was expected. Please change the shape of y to (n_samples,), for example using ravel().\n",
      "  import sys\n",
      "/Users/jhajhajhajha1/anaconda/lib/python3.5/site-packages/ipykernel_launcher.py:14: DataConversionWarning: A column-vector y was passed when a 1d array was expected. Please change the shape of y to (n_samples,), for example using ravel().\n",
      "  \n"
     ]
    },
    {
     "data": {
      "image/png": "[encoded data removed]",
      "text/plain": [
       "<Figure size 432x288 with 1 Axes>"
      ]
     },
     "metadata": {},
     "output_type": "display_data"
    }
   ],
   "source": [
    "Year = dataset4[:, 0].reshape(-1, 1)\n",
    "Resident = dataset4[:, 1].reshape(-1, 1)\n",
    "Non_resident = dataset4[:,2].reshape(-1, 1)\n",
    "\n",
    "from sklearn.ensemble import RandomForestRegressor\n",
    "regress = RandomForestRegressor(n_estimators = 1500, random_state = 0)\n",
    "regress.fit(Year, Resident)\n",
    "X_grid = np.arange(min(Year), max(Year), 0.01)\n",
    "X_grid = X_grid.reshape((len(X_grid), 1))\n",
    "plt.scatter(Year, Resident, color = 'red', label = \"Residents\")\n",
    "plt.plot(X_grid, regress.predict(X_grid), color = 'blue', label = \"Residents Prediction\")\n",
    "\n",
    "regress = RandomForestRegressor(n_estimators = 300, random_state = 0)\n",
    "regress.fit(Year, Non_resident)\n",
    "plt.scatter(Year, Non_resident, color = 'orange', label = \"Non-residents\")\n",
    "plt.plot(X_grid, regress.predict(X_grid), color = 'green', label = \"Non-residents Prediction\")\n",
    "\n",
    "plt.legend()\n",
    "plt.title('Resident vs Non-Resident Grants')\n",
    "plt.xlabel('Year')\n",
    "plt.ylabel('Grants')\n",
    "plt.show()\n"
   ]
  },
  {
   "cell_type": "code",
   "execution_count": 45,
   "metadata": {},
   "outputs": [
    {
     "data": {
      "text/plain": [
       "array([nan,\n",
       "       'Note: WIPO estimates cover 147 offices and include the following number of offices: Africa (25), Asia (41), Europe (44), Latin America & the Caribbean (30), North America (2) and Oceania (5).',\n",
       "       nan, 'Source: WIPO Statistics Database, October 2015.', nan, nan,\n",
       "       nan, nan, 'Africa', 'Asia', 'Europe',\n",
       "       'Latin America & the Caribbean', 'North America', 'Oceania',\n",
       "       'World Total'], dtype=object)"
      ]
     },
     "execution_count": 45,
     "metadata": {},
     "output_type": "execute_result"
    }
   ],
   "source": [
    "dataset6.iloc[:,0].values"
   ]
  },
  {
   "cell_type": "code",
   "execution_count": null,
   "metadata": {},
   "outputs": [],
   "source": [
    "import plotly.plotly as py\n",
    "import pandas as pd\n",
    "df = dataset6[8:]\n",
    "data = [ dict(\n",
    "        type = 'choropleth',\n",
    "        locations = data[:,0],\n",
    "        z = df['GDP (BILLIONS)'],\n",
    "        text = df['COUNTRY'],\n",
    "        colorscale = [[0,\"rgb(5, 10, 172)\"],[0.35,\"rgb(40, 60, 190)\"],[0.5,\"rgb(70, 100, 245)\"],\\\n",
    "            [0.6,\"rgb(90, 120, 245)\"],[0.7,\"rgb(106, 137, 247)\"],[1,\"rgb(220, 220, 220)\"]],\n",
    "        autocolorscale = False,\n",
    "        reversescale = True,\n",
    "        marker = dict(\n",
    "            line = dict (\n",
    "                color = 'rgb(180,180,180)',\n",
    "                width = 0.5\n",
    "            ) ),\n",
    "        colorbar = dict(\n",
    "            autotick = False,\n",
    "            tickprefix = '$',\n",
    "            title = 'GDP<br>Billions US$'),\n",
    "      ) ]"
   ]
  },
  {
   "cell_type": "code",
   "execution_count": 7,
   "metadata": {},
   "outputs": [
    {
     "name": "stdout",
     "output_type": "stream",
     "text": [
      "High five! You successfully sent some data to your account on plotly. View your plot in your browser at https://plot.ly/~jasonyliang/0 or inside your plot.ly account where it is named 'choropleth of some cali counties - full usa scope'\n"
     ]
    },
    {
     "data": {
      "text/html": [
       "<iframe id=\"igraph\" scrolling=\"no\" style=\"border:none;\" seamless=\"seamless\" src=\"https://plot.ly/~jasonyliang/0.embed\" height=\"450px\" width=\"900px\"></iframe>"
      ],
      "text/plain": [
       "<plotly.tools.PlotlyDisplay object>"
      ]
     },
     "execution_count": 7,
     "metadata": {},
     "output_type": "execute_result"
    }
   ],
   "source": [
    "import plotly.plotly as py\n",
    "import plotly.figure_factory as ff\n",
    "fips = ['06021', '06023', '06027',\n",
    "        '06029', '06033', '06059',\n",
    "        '06047', '06049', '06051',\n",
    "        '06055', '06061']\n",
    "values = range(len(fips))\n",
    "\n",
    "fig = ff.create_choropleth(fips=fips, values=values)\n",
    "py.iplot(fig, filename='choropleth of some cali counties - full usa scope')"
   ]
  },
  {
   "cell_type": "code",
   "execution_count": null,
   "metadata": {},
   "outputs": [],
   "source": []
  },
  {
   "cell_type": "code",
   "execution_count": null,
   "metadata": {},
   "outputs": [],
   "source": []
  }
 ],
 "metadata": {
  "kernelspec": {
   "display_name": "Python 3",
   "language": "python",
   "name": "python3"
  },
  "language_info": {
   "codemirror_mode": {
    "name": "ipython",
    "version": 3
   },
   "file_extension": ".py",
   "mimetype": "text/x-python",
   "name": "python",
   "nbconvert_exporter": "python",
   "pygments_lexer": "ipython3",
   "version": "3.5.5"
  }
 },
 "nbformat": 4,
 "nbformat_minor": 2
}
