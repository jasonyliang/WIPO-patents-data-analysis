{
 "cells": [
  {
   "cell_type": "code",
   "execution_count": 165,
   "metadata": {},
   "outputs": [
    {
     "name": "stdout",
     "output_type": "stream",
     "text": [
      "    Year Application Growth Rate\n",
      "5   2000     1378000           .\n",
      "6   2001     1457500         5.8\n",
      "7   2002     1444400        -0.9\n",
      "8   2003     1484300         2.8\n",
      "9   2004     1574300         6.1\n",
      "10  2005     1702900         8.2\n",
      "11  2006     1791100         5.2\n",
      "12  2007     1874400         4.7\n",
      "13  2008     1929400         2.9\n",
      "14  2009     1855600        -3.8\n",
      "15  2010     1997400         7.6\n",
      "16  2011     2158000           8\n",
      "17  2012     2356600         9.2\n",
      "18  2013     2564800         8.8\n",
      "19  2014     2680900         4.5\n"
     ]
    }
   ],
   "source": [
    "# converting xlsx to csv\n",
    "import pandas as pd\n",
    "\n",
    "dataset1 = pd.read_excel(\"wipo_pub_941_2015-tech1/A01.xlsx\")\n",
    "dataset1 = dataset1[5:]\n",
    "dataset1.columns = ['Year', 'Application', 'Growth Rate']\n",
    "print(dataset1.iloc[:])\n",
    "year = dataset1.iloc[:, 0]\n",
    "App = dataset1.iloc[:, 1]\n",
    "Growth = dataset1.iloc[:, 2]\n",
    "\n"
   ]
  },
  {
   "cell_type": "code",
   "execution_count": 166,
   "metadata": {},
   "outputs": [
    {
     "data": {
      "image/png": "[encoded data removed]",
      "text/plain": [
       "<Figure size 432x288 with 1 Axes>"
      ]
     },
     "metadata": {},
     "output_type": "display_data"
    },
    {
     "name": "stdout",
     "output_type": "stream",
     "text": [
      "5     2000\n",
      "6     2001\n",
      "7     2002\n",
      "8     2003\n",
      "9     2004\n",
      "10    2005\n",
      "11    2006\n",
      "12    2007\n",
      "13    2008\n",
      "14    2009\n",
      "15    2010\n",
      "16    2011\n",
      "17    2012\n",
      "18    2013\n",
      "19    2014\n",
      "Name: Year, dtype: object\n"
     ]
    }
   ],
   "source": [
    "import matplotlib.pyplot as plt\n",
    "import numpy as np\n",
    "\n",
    "plt.bar(year, App)\n",
    "plt.xlabel('Year')\n",
    "plt.ylabel('Application')\n",
    "plt.show()\n",
    "print(year)"
   ]
  },
  {
   "cell_type": "code",
   "execution_count": 167,
   "metadata": {},
   "outputs": [
    {
     "name": "stderr",
     "output_type": "stream",
     "text": [
      "/Users/jhajhajhajha1/anaconda/lib/python3.5/site-packages/ipykernel_launcher.py:1: FutureWarning: reshape is deprecated and will raise in a subsequent release. Please use .values.reshape(...) instead\n",
      "  \"\"\"Entry point for launching an IPython kernel.\n"
     ]
    }
   ],
   "source": [
    "year = year.reshape((-1,1))"
   ]
  },
  {
   "cell_type": "code",
   "execution_count": 168,
   "metadata": {},
   "outputs": [
    {
     "data": {
      "image/png": "[encoded data removed]",
      "text/plain": [
       "<Figure size 432x288 with 1 Axes>"
      ]
     },
     "metadata": {},
     "output_type": "display_data"
    },
    {
     "data": {
      "text/plain": [
       "(-175398587.26190478, array([ 88331.78571429]))"
      ]
     },
     "execution_count": 168,
     "metadata": {},
     "output_type": "execute_result"
    }
   ],
   "source": [
    "from sklearn.linear_model import LinearRegression\n",
    "regressor = LinearRegression()\n",
    "regressor.fit(year, App)\n",
    "\n",
    "plt.scatter(year, App, color = 'red')\n",
    "plt.plot(year, regressor.predict(year), color = 'blue')\n",
    "plt.title('Application over the years')\n",
    "plt.xlabel('Year')\n",
    "plt.ylabel('Application')\n",
    "plt.show()\n",
    "regressor.intercept_, regressor.coef_"
   ]
  },
  {
   "cell_type": "code",
   "execution_count": 184,
   "metadata": {},
   "outputs": [],
   "source": [
    "dataset2 = pd.read_excel(\"wipo_pub_941_2015-tech1/A02.xlsx\")\n",
    "dataset3 = pd.read_excel(\"wipo_pub_941_2015-tech1/A03.xlsx\")\n",
    "dataset4 = pd.read_excel(\"wipo_pub_941_2015-tech1/A04.xlsx\")\n",
    "dataset5 = pd.read_excel(\"wipo_pub_941_2015-tech1/A05.xlsx\")\n",
    "dataset6 = pd.read_excel(\"wipo_pub_941_2015-tech1/A06.xlsx\")\n",
    "dataset7 = pd.read_excel(\"wipo_pub_941_2015-tech1/A07.xlsx\")\n",
    "dataset8 = pd.read_excel(\"wipo_pub_941_2015-tech1/A08.xlsx\")\n",
    "dataset9 = pd.read_excel(\"wipo_pub_941_2015-tech1/A09.xlsx\")\n",
    "dataset10 = pd.read_excel(\"wipo_pub_941_2015-tech1/A10.xlsx\")\n",
    "\n"
   ]
  },
  {
   "cell_type": "code",
   "execution_count": 170,
   "metadata": {},
   "outputs": [
    {
     "name": "stdout",
     "output_type": "stream",
     "text": [
      "   A2 Resident and non-resident patent applications worldwide Unnamed: 1  \\\n",
      "0                                                 NaN                NaN   \n",
      "1   Note: WIPO estimates cover 147 patent offices ...                NaN   \n",
      "2     Source: WIPO Statistics Database, October 2015.                NaN   \n",
      "3                                                 NaN                NaN   \n",
      "4                                                 NaN                NaN   \n",
      "5                                                Year           Resident   \n",
      "6                                                2000             875000   \n",
      "7                                                2001             896600   \n",
      "8                                                2002             889300   \n",
      "9                                                2003             925000   \n",
      "10                                               2004             972600   \n",
      "11                                               2005            1039000   \n",
      "12                                               2006            1075300   \n",
      "13                                               2007            1125200   \n",
      "14                                               2008            1162000   \n",
      "15                                               2009            1146500   \n",
      "16                                               2010            1237000   \n",
      "17                                               2011            1365100   \n",
      "18                                               2012            1519700   \n",
      "19                                               2013            1709000   \n",
      "20                                               2014            1800300   \n",
      "\n",
      "      Unnamed: 2  \n",
      "0            NaN  \n",
      "1            NaN  \n",
      "2            NaN  \n",
      "3            NaN  \n",
      "4            NaN  \n",
      "5   Non_Resident  \n",
      "6         503000  \n",
      "7         560900  \n",
      "8         555100  \n",
      "9         559300  \n",
      "10        601700  \n",
      "11        663900  \n",
      "12        715800  \n",
      "13        749200  \n",
      "14        767400  \n",
      "15        709100  \n",
      "16        760400  \n",
      "17        792900  \n",
      "18        836900  \n",
      "19        855800  \n",
      "20        880600  \n"
     ]
    }
   ],
   "source": [
    "print(dataset2)"
   ]
  },
  {
   "cell_type": "code",
   "execution_count": 171,
   "metadata": {},
   "outputs": [
    {
     "name": "stdout",
     "output_type": "stream",
     "text": [
      "    Year Resident Non-resident\n",
      "6   2000   875000       503000\n",
      "7   2001   896600       560900\n",
      "8   2002   889300       555100\n",
      "9   2003   925000       559300\n",
      "10  2004   972600       601700\n",
      "11  2005  1039000       663900\n",
      "12  2006  1075300       715800\n",
      "13  2007  1125200       749200\n",
      "14  2008  1162000       767400\n",
      "15  2009  1146500       709100\n",
      "16  2010  1237000       760400\n",
      "17  2011  1365100       792900\n",
      "18  2012  1519700       836900\n",
      "19  2013  1709000       855800\n",
      "20  2014  1800300       880600\n"
     ]
    }
   ],
   "source": [
    "dataset2 = dataset2[6:]\n",
    "dataset2.columns = ['Year', 'Resident', 'Non-resident']\n",
    "print(dataset2)\n",
    "Year = dataset2.iloc[:,0]\n",
    "Resident = dataset2.iloc[:, 1]\n",
    "Nonresident = dataset2.iloc[:,2]"
   ]
  },
  {
   "cell_type": "code",
   "execution_count": 172,
   "metadata": {},
   "outputs": [
    {
     "name": "stdout",
     "output_type": "stream",
     "text": [
      "-123242891.905 [ 61995.71428571]\n",
      "-52155695.3571 [ 26336.07142857]\n"
     ]
    },
    {
     "data": {
      "image/png": "[encoded data removed]",
      "text/plain": [
       "<Figure size 432x288 with 1 Axes>"
      ]
     },
     "metadata": {},
     "output_type": "display_data"
    }
   ],
   "source": [
    "regressor = LinearRegression()\n",
    "regressor.fit(year, Resident)\n",
    "plt.scatter(year, Resident, color = 'red', label = 'Resident')\n",
    "plt.plot(year, regressor.predict(year), color = 'blue', label = 'Resident Projection')\n",
    "print(regressor.intercept_, regressor.coef_)\n",
    "plt.legend()\n",
    "\n",
    "regressor = LinearRegression()\n",
    "regressor.fit(year, Nonresident)\n",
    "plt.scatter(year, Nonresident, color = 'orange', label = 'Non-resident')\n",
    "plt.plot(year, regressor.predict(year), color = 'green', label = 'Non-resident Projection')\n",
    "plt.title('Application over the years')\n",
    "plt.xlabel('Year')\n",
    "plt.ylabel('Applicants')\n",
    "plt.legend()\n",
    "print(regressor.intercept_, regressor.coef_)\n",
    "plt.show()"
   ]
  },
  {
   "cell_type": "code",
   "execution_count": 185,
   "metadata": {},
   "outputs": [
    {
     "name": "stdout",
     "output_type": "stream",
     "text": [
      "                  A3 Trend in patent grants worldwide Unnamed: 1   Unnamed: 2\n",
      "0                                                            NaN          NaN\n",
      "1   Note: WIPO estimates cover 130 patent offices ...        NaN          NaN\n",
      "2     Source: WIPO Statistics Database, October 2015.        NaN          NaN\n",
      "3                                                 NaN        NaN          NaN\n",
      "4                                                Year     Grants  Growth_Rate\n",
      "5                                                2000     515000            .\n",
      "6                                                2001     535700            4\n",
      "7                                                2002     559200          4.4\n",
      "8                                                2003     618400         10.6\n",
      "9                                                2004     625100          1.1\n",
      "10                                               2005     631000          0.9\n",
      "11                                               2006     752200         19.2\n",
      "12                                               2007     773900          2.9\n",
      "13                                               2008     778900          0.6\n",
      "14                                               2009     811800          4.2\n",
      "15                                               2010     912300         12.4\n",
      "16                                               2011     999800          9.6\n",
      "17                                               2012    1135700         13.6\n",
      "18                                               2013    1172500          3.2\n",
      "19                                               2014    1176600          0.3\n"
     ]
    }
   ],
   "source": [
    "print(dataset3)"
   ]
  },
  {
   "cell_type": "code",
   "execution_count": 186,
   "metadata": {},
   "outputs": [
    {
     "name": "stdout",
     "output_type": "stream",
     "text": [
      "   A3 Trend in patent grants worldwide Unnamed: 1 Unnamed: 2\n",
      "5                                 2000     515000          .\n",
      "6                                 2001     535700          4\n",
      "7                                 2002     559200        4.4\n",
      "8                                 2003     618400       10.6\n",
      "9                                 2004     625100        1.1\n",
      "10                                2005     631000        0.9\n",
      "11                                2006     752200       19.2\n",
      "12                                2007     773900        2.9\n",
      "13                                2008     778900        0.6\n",
      "14                                2009     811800        4.2\n",
      "15                                2010     912300       12.4\n",
      "16                                2011     999800        9.6\n",
      "17                                2012    1135700       13.6\n",
      "18                                2013    1172500        3.2\n",
      "19                                2014    1176600        0.3\n"
     ]
    }
   ],
   "source": [
    "dataset3 = dataset3[5:]\n",
    "print(dataset3)\n",
    "dataset3.columns = ['Year', 'Grants', 'Growth Rate']"
   ]
  },
  {
   "cell_type": "code",
   "execution_count": 182,
   "metadata": {},
   "outputs": [
    {
     "ename": "ValueError",
     "evalue": "could not convert string to float: '.'",
     "output_type": "error",
     "traceback": [
      "\u001b[0;31m---------------------------------------------------------------------------\u001b[0m",
      "\u001b[0;31mValueError\u001b[0m                                Traceback (most recent call last)",
      "\u001b[0;32m<ipython-input-182-a7e5e526a813>\u001b[0m in \u001b[0;36m<module>\u001b[0;34m()\u001b[0m\n\u001b[1;32m      1\u001b[0m \u001b[0;32mfrom\u001b[0m \u001b[0msklearn\u001b[0m\u001b[0;34m.\u001b[0m\u001b[0mpreprocessing\u001b[0m \u001b[0;32mimport\u001b[0m \u001b[0mImputer\u001b[0m\u001b[0;34m\u001b[0m\u001b[0m\n\u001b[1;32m      2\u001b[0m \u001b[0mimputer\u001b[0m \u001b[0;34m=\u001b[0m \u001b[0mImputer\u001b[0m\u001b[0;34m(\u001b[0m\u001b[0mmissing_values\u001b[0m \u001b[0;34m=\u001b[0m \u001b[0;34m'?'\u001b[0m\u001b[0;34m,\u001b[0m \u001b[0mstrategy\u001b[0m\u001b[0;34m=\u001b[0m\u001b[0;34m'mean'\u001b[0m\u001b[0;34m,\u001b[0m \u001b[0maxis\u001b[0m\u001b[0;34m=\u001b[0m\u001b[0;36m0\u001b[0m\u001b[0;34m,\u001b[0m \u001b[0mcopy\u001b[0m\u001b[0;34m=\u001b[0m\u001b[0;32mFalse\u001b[0m\u001b[0;34m)\u001b[0m\u001b[0;34m\u001b[0m\u001b[0m\n\u001b[0;32m----> 3\u001b[0;31m \u001b[0mimputer\u001b[0m \u001b[0;34m=\u001b[0m \u001b[0mimputer\u001b[0m\u001b[0;34m.\u001b[0m\u001b[0mfit\u001b[0m\u001b[0;34m(\u001b[0m\u001b[0mdataset3\u001b[0m\u001b[0;34m)\u001b[0m\u001b[0;34m\u001b[0m\u001b[0m\n\u001b[0m",
      "\u001b[0;32m~/anaconda/lib/python3.5/site-packages/sklearn/preprocessing/imputation.py\u001b[0m in \u001b[0;36mfit\u001b[0;34m(self, X, y)\u001b[0m\n\u001b[1;32m    153\u001b[0m         \u001b[0;32mif\u001b[0m \u001b[0mself\u001b[0m\u001b[0;34m.\u001b[0m\u001b[0maxis\u001b[0m \u001b[0;34m==\u001b[0m \u001b[0;36m0\u001b[0m\u001b[0;34m:\u001b[0m\u001b[0;34m\u001b[0m\u001b[0m\n\u001b[1;32m    154\u001b[0m             X = check_array(X, accept_sparse='csc', dtype=np.float64,\n\u001b[0;32m--> 155\u001b[0;31m                             force_all_finite=False)\n\u001b[0m\u001b[1;32m    156\u001b[0m \u001b[0;34m\u001b[0m\u001b[0m\n\u001b[1;32m    157\u001b[0m             \u001b[0;32mif\u001b[0m \u001b[0msparse\u001b[0m\u001b[0;34m.\u001b[0m\u001b[0missparse\u001b[0m\u001b[0;34m(\u001b[0m\u001b[0mX\u001b[0m\u001b[0;34m)\u001b[0m\u001b[0;34m:\u001b[0m\u001b[0;34m\u001b[0m\u001b[0m\n",
      "\u001b[0;32m~/anaconda/lib/python3.5/site-packages/sklearn/utils/validation.py\u001b[0m in \u001b[0;36mcheck_array\u001b[0;34m(array, accept_sparse, dtype, order, copy, force_all_finite, ensure_2d, allow_nd, ensure_min_samples, ensure_min_features, warn_on_dtype, estimator)\u001b[0m\n\u001b[1;32m    431\u001b[0m                                       force_all_finite)\n\u001b[1;32m    432\u001b[0m     \u001b[0;32melse\u001b[0m\u001b[0;34m:\u001b[0m\u001b[0;34m\u001b[0m\u001b[0m\n\u001b[0;32m--> 433\u001b[0;31m         \u001b[0marray\u001b[0m \u001b[0;34m=\u001b[0m \u001b[0mnp\u001b[0m\u001b[0;34m.\u001b[0m\u001b[0marray\u001b[0m\u001b[0;34m(\u001b[0m\u001b[0marray\u001b[0m\u001b[0;34m,\u001b[0m \u001b[0mdtype\u001b[0m\u001b[0;34m=\u001b[0m\u001b[0mdtype\u001b[0m\u001b[0;34m,\u001b[0m \u001b[0morder\u001b[0m\u001b[0;34m=\u001b[0m\u001b[0morder\u001b[0m\u001b[0;34m,\u001b[0m \u001b[0mcopy\u001b[0m\u001b[0;34m=\u001b[0m\u001b[0mcopy\u001b[0m\u001b[0;34m)\u001b[0m\u001b[0;34m\u001b[0m\u001b[0m\n\u001b[0m\u001b[1;32m    434\u001b[0m \u001b[0;34m\u001b[0m\u001b[0m\n\u001b[1;32m    435\u001b[0m         \u001b[0;32mif\u001b[0m \u001b[0mensure_2d\u001b[0m\u001b[0;34m:\u001b[0m\u001b[0;34m\u001b[0m\u001b[0m\n",
      "\u001b[0;31mValueError\u001b[0m: could not convert string to float: '.'"
     ]
    }
   ],
   "source": [
    "sklearn"
   ]
  },
  {
   "cell_type": "code",
   "execution_count": null,
   "metadata": {},
   "outputs": [],
   "source": []
  }
 ],
 "metadata": {
  "kernelspec": {
   "display_name": "Python 3",
   "language": "python",
   "name": "python3"
  },
  "language_info": {
   "codemirror_mode": {
    "name": "ipython",
    "version": 3
   },
   "file_extension": ".py",
   "mimetype": "text/x-python",
   "name": "python",
   "nbconvert_exporter": "python",
   "pygments_lexer": "ipython3",
   "version": "3.5.5"
  }
 },
 "nbformat": 4,
 "nbformat_minor": 2
}
